{
 "cells": [
  {
   "cell_type": "code",
   "execution_count": 1,
   "id": "ba866a9a",
   "metadata": {},
   "outputs": [],
   "source": [
    "import math as mt\n",
    "# import numpy as np\n",
    "# import matplotlib.pyplot as plt\n",
    "# import pandas as pd"
   ]
  },
  {
   "cell_type": "code",
   "execution_count": null,
   "id": "7aea1cfe",
   "metadata": {},
   "outputs": [],
   "source": []
  },
  {
   "cell_type": "markdown",
   "id": "7d7dd462",
   "metadata": {},
   "source": [
    "### *Ejercicio 1:* \n",
    "Supongamos que se nos da la posición de un punto en un espacio bidimensional en coordenadas polares $r$,$\\theta$ y queremos convertirlo a coordenadas cartesianas $x$, $y$. \n",
    "\n",
    "¿Cómo escribiríamos un programa para hacer esto?"
   ]
  },
  {
   "cell_type": "code",
   "execution_count": 2,
   "id": "1e0af8f4",
   "metadata": {},
   "outputs": [],
   "source": [
    "r = -5\n",
    "theta = mt.pi/4"
   ]
  },
  {
   "cell_type": "code",
   "execution_count": 3,
   "id": "dc8cc26e",
   "metadata": {},
   "outputs": [
    {
     "name": "stdout",
     "output_type": "stream",
     "text": [
      "-3.5355339059327378 -3.5355339059327373\n"
     ]
    }
   ],
   "source": [
    "x = r*mt.cos(theta)\n",
    "y = r*mt.sin(theta)\n",
    "\n",
    "print(x,y)"
   ]
  },
  {
   "cell_type": "code",
   "execution_count": null,
   "id": "d7e03580",
   "metadata": {},
   "outputs": [],
   "source": []
  },
  {
   "cell_type": "markdown",
   "id": "d0bc3f79",
   "metadata": {},
   "source": [
    "### *Ejercicio 2:* \n",
    "\n",
    "Escribe un programa para realizar la operación inversa a la del ejemplo anterior. Es decir, pedir al usuario las coordenadas cartesianas $x$, $y$ de un punto en un espacio bidimensional, y calcular e imprimir las coordenadas polares correspondientes, con el ángulo $\\theta$ dado en grados."
   ]
  },
  {
   "cell_type": "code",
   "execution_count": 4,
   "id": "199a7870",
   "metadata": {},
   "outputs": [],
   "source": [
    "x = -5\n",
    "y = 7"
   ]
  },
  {
   "cell_type": "code",
   "execution_count": 5,
   "id": "83f790c4",
   "metadata": {},
   "outputs": [
    {
     "name": "stdout",
     "output_type": "stream",
     "text": [
      "8.602325267042627 -0.9505468408120751\n"
     ]
    }
   ],
   "source": [
    "R = mt.sqrt(x**2 + y**2)\n",
    "Th = mt.atan(y/x)\n",
    "# Th = mt.atan2(y,x)\n",
    "# Th = mt.atan2(x,y)\n",
    "print(R,Th)"
   ]
  },
  {
   "cell_type": "code",
   "execution_count": 6,
   "id": "cceecf7a",
   "metadata": {},
   "outputs": [],
   "source": [
    "mt.atan2??"
   ]
  },
  {
   "cell_type": "code",
   "execution_count": null,
   "id": "d51fef30",
   "metadata": {},
   "outputs": [],
   "source": []
  },
  {
   "cell_type": "code",
   "execution_count": 7,
   "id": "dd497192",
   "metadata": {},
   "outputs": [],
   "source": [
    "mt.atan2?\n",
    "# mt.pi/4"
   ]
  },
  {
   "cell_type": "code",
   "execution_count": null,
   "id": "55c28c14",
   "metadata": {},
   "outputs": [],
   "source": []
  },
  {
   "cell_type": "markdown",
   "id": "e7de5330",
   "metadata": {},
   "source": [
    "Pero también podemos calcular el promedio geometrico. \n",
    "\n",
    "Recordemos que el promedio geometrico de $n$ valores se define como:\n",
    "\n",
    "### $ \\displaystyle \\overline{x} = \\displaystyle \\left[ \\prod_{i = 1}^n x_i \\right]^{\\frac{1}{n}} $\n",
    "\n",
    "Tomando el logaritmo natural a ambos lados, tenemos:\n",
    "\n",
    "### $ \\displaystyle \\ln \\overline{x} = \\displaystyle \\ln \\left[ \\prod_{i = 1}^n x_i \\right]^{\\frac{1}{n}} = \\dfrac{1}{n} \\sum_{i = 1}^n \\ln x_i $\n",
    "\n",
    "de tal manera que:\n",
    "\n",
    "### $ \\displaystyle \\overline{x} = \\displaystyle \\exp \\left( \\dfrac{1}{n} \\sum_{i = 1}^n \\ln x_i \\right)$"
   ]
  },
  {
   "cell_type": "markdown",
   "id": "53857d1e",
   "metadata": {},
   "source": [
    "### **Ejercicio:** \n",
    "\n",
    "Escribe un programa que lea el archivo `valores.txt` y los guarde en una arreglo de `numpy`. Calcula el promedio geometrico de dichos datos"
   ]
  },
  {
   "cell_type": "markdown",
   "id": "241e25ae",
   "metadata": {},
   "source": [
    "**Solución:** Podemos calcularlo de la siguiente manera:"
   ]
  },
  {
   "cell_type": "code",
   "execution_count": 5,
   "id": "41ef2d4e",
   "metadata": {},
   "outputs": [],
   "source": [
    "N = 100\n",
    "L = [i for i in range(1,N)]\n",
    "# L"
   ]
  },
  {
   "cell_type": "code",
   "execution_count": 6,
   "id": "3458a0b0",
   "metadata": {},
   "outputs": [
    {
     "data": {
      "text/plain": [
       "50.0"
      ]
     },
     "execution_count": 6,
     "metadata": {},
     "output_type": "execute_result"
    }
   ],
   "source": [
    "aritmetrico = sum(L)/len(L)\n",
    "aritmetrico"
   ]
  },
  {
   "cell_type": "code",
   "execution_count": 7,
   "id": "e39976f6",
   "metadata": {},
   "outputs": [
    {
     "name": "stdout",
     "output_type": "stream",
     "text": [
      "37.62310047409742\n"
     ]
    }
   ],
   "source": [
    "geometrico = 1.0\n",
    "for x in L:\n",
    "    # print(x)\n",
    "    geometrico = geometrico*x\n",
    "    # print(geo)\n",
    "geometrico = (geometrico)**(1/len(L))\n",
    "print(geometrico)"
   ]
  },
  {
   "cell_type": "code",
   "execution_count": 8,
   "id": "d4a1ecf2",
   "metadata": {},
   "outputs": [],
   "source": [
    "# 2**(1/len(L))"
   ]
  },
  {
   "cell_type": "code",
   "execution_count": 9,
   "id": "634e13a2",
   "metadata": {},
   "outputs": [
    {
     "ename": "NameError",
     "evalue": "name 'mt' is not defined",
     "output_type": "error",
     "traceback": [
      "\u001b[0;31m---------------------------------------------------------------------------\u001b[0m",
      "\u001b[0;31mNameError\u001b[0m                                 Traceback (most recent call last)",
      "Cell \u001b[0;32mIn[9], line 1\u001b[0m\n\u001b[0;32m----> 1\u001b[0m logL \u001b[38;5;241m=\u001b[39m \u001b[38;5;28mlist\u001b[39m(\u001b[38;5;28mmap\u001b[39m(\u001b[43mmt\u001b[49m\u001b[38;5;241m.\u001b[39mlog,L))\n\u001b[1;32m      2\u001b[0m geo2 \u001b[38;5;241m=\u001b[39m mt\u001b[38;5;241m.\u001b[39mexp(\u001b[38;5;28msum\u001b[39m(logL)\u001b[38;5;241m/\u001b[39m\u001b[38;5;28mlen\u001b[39m(logL))\n",
      "\u001b[0;31mNameError\u001b[0m: name 'mt' is not defined"
     ]
    }
   ],
   "source": [
    "logL = list(map(mt.log,L))\n",
    "geo2 = mt.exp(sum(logL)/len(logL))"
   ]
  },
  {
   "cell_type": "code",
   "execution_count": null,
   "id": "c64e0cc8",
   "metadata": {},
   "outputs": [],
   "source": [
    "geo2"
   ]
  },
  {
   "cell_type": "code",
   "execution_count": 4,
   "id": "6d6c38b8",
   "metadata": {},
   "outputs": [
    {
     "name": "stdout",
     "output_type": "stream",
     "text": [
      "6.4234247497797625\n"
     ]
    }
   ],
   "source": [
    "import math as mt\n",
    "\n",
    "valores = np.loadtxt(\"valores.txt\",float)\n",
    "logs = np.array(list(map(mt.log,valores)),float)\n",
    "\n",
    "geometrico = mt.exp(sum(logs)/len(logs))\n",
    "print(geometrico)"
   ]
  },
  {
   "cell_type": "markdown",
   "id": "1947fc0f",
   "metadata": {},
   "source": [
    "**Notese que** combinamos la función `map()` y la función `log()` para calcular los logaritmos, para posteriormente calcular la media aritmética de los valores resultantes."
   ]
  },
  {
   "cell_type": "markdown",
   "id": "cf1774fc",
   "metadata": {},
   "source": [
    "Aunque quiza podemos ser más ingeniosos y hacerlo de la siguiente manera: "
   ]
  },
  {
   "cell_type": "code",
   "execution_count": null,
   "id": "9f6e8195",
   "metadata": {},
   "outputs": [],
   "source": [
    "from numpy import log\n",
    "from math import exp\n",
    "\n",
    "valores = loadtxt(\"valores.txt\",float)\n",
    "\n",
    "geometrico = exp(sum(log(valores))/len(valores))\n",
    "print(geometrico)"
   ]
  },
  {
   "cell_type": "code",
   "execution_count": null,
   "id": "137dc149",
   "metadata": {},
   "outputs": [],
   "source": []
  },
  {
   "cell_type": "markdown",
   "id": "d95fc230",
   "metadata": {},
   "source": [
    "### **Ejercicio:** \n",
    "\n",
    "Escribe un programa que lea el archivo `datos.dat` y guarde en una arreglo de `numpy` los datos de la primera columna y en otro diferente los datos de la segunda columna."
   ]
  },
  {
   "cell_type": "code",
   "execution_count": 4,
   "id": "2dda604b",
   "metadata": {},
   "outputs": [],
   "source": [
    "datos = []\n",
    "entrada = open(\"datos.dat\", \"r\")\n",
    "\n",
    "for linea in entrada:     # creamos un bufer y guardamos cada linea en la lista datos\n",
    "    datos.append(linea)"
   ]
  },
  {
   "cell_type": "code",
   "execution_count": 9,
   "id": "a39b2210",
   "metadata": {},
   "outputs": [],
   "source": [
    "A = []\n",
    "B = []\n",
    "\n",
    "for d in datos:        # para cada linea en la lista datos\n",
    "    data = d.split('\\t')     # separamos los datos por tabulador, resultando en un vector de dos estradas\n",
    "    A.append(float(data[0].strip()))     # quitamos a la primera entrada los espacios y otros caracteres y lo guardamos como flotante en la lista A\n",
    "    B.append(float(data[1].strip()))     # lo mismo para la segunda entrada y la lista B\n",
    "\n",
    "A = np.array(A)    # finalmente transformamos la listas A y B, en arreglos de numpy\n",
    "B = np.array(B)"
   ]
  },
  {
   "cell_type": "markdown",
   "id": "3f036542",
   "metadata": {},
   "source": [
    "### **Ejercicio:** \n",
    "\n",
    "Usando los arreglos de `numpy` del ejercicio anterior, que contienen los datos recolectados del archivo `datos.dat`; escribe un programa que escriba **dos archivos de texto diferentes**, que guarden los datos de cada arreglo."
   ]
  },
  {
   "cell_type": "code",
   "execution_count": null,
   "id": "a9f3c5af",
   "metadata": {},
   "outputs": [],
   "source": []
  },
  {
   "cell_type": "code",
   "execution_count": null,
   "id": "e1948062",
   "metadata": {},
   "outputs": [],
   "source": []
  },
  {
   "cell_type": "code",
   "execution_count": null,
   "id": "c1435fb7",
   "metadata": {},
   "outputs": [],
   "source": []
  }
 ],
 "metadata": {
  "kernelspec": {
   "display_name": "Python 3 (ipykernel)",
   "language": "python",
   "name": "python3"
  },
  "language_info": {
   "codemirror_mode": {
    "name": "ipython",
    "version": 3
   },
   "file_extension": ".py",
   "mimetype": "text/x-python",
   "name": "python",
   "nbconvert_exporter": "python",
   "pygments_lexer": "ipython3",
   "version": "3.12.3"
  }
 },
 "nbformat": 4,
 "nbformat_minor": 5
}
