{
 "cells": [
  {
   "cell_type": "markdown",
   "id": "e3ed63cb",
   "metadata": {},
   "source": [
    "# Ejercico 1"
   ]
  },
  {
   "cell_type": "markdown",
   "id": "cc3f6b34",
   "metadata": {},
   "source": [
    "## Caída de una pelota desde una torre: \n",
    "\n",
    "Se deja caer una pelota desde una torre de altura $h$. \n",
    "Tiene velocidad inicial cero y acelera hacia abajo con la gravedad.\n",
    "\n",
    "Escribe un programa que le pida al usuario que ingrese la altura en metros de la torre y luego calcule e imprima el tiempo en segundos hasta que la pelota toque el suelo\n",
    "(ignora la resistencia del aire).\n",
    "\n",
    "Despues, usa tu programa para calcular el tiempo de una pelota lanzada desde una torre de 100m de altura."
   ]
  },
  {
   "cell_type": "markdown",
   "id": "1accb674",
   "metadata": {},
   "source": []
  },
  {
   "cell_type": "code",
   "execution_count": 1,
   "id": "e7bcfb22",
   "metadata": {},
   "outputs": [],
   "source": []
  },
  {
   "cell_type": "code",
   "execution_count": 3,
   "id": "372d6ad2",
   "metadata": {},
   "outputs": [
    {
     "name": "stdout",
     "output_type": "stream",
     "text": [
      "3.1927542840705043\n"
     ]
    }
   ],
   "source": []
  },
  {
   "cell_type": "code",
   "execution_count": 13,
   "id": "850b88ea",
   "metadata": {},
   "outputs": [],
   "source": [
    "g = 9.81 # m/s2\n",
    "def CaidaLibre(h): # Esta funcion regresa el tiempo de la pelota al caer\n",
    "    t = sqrt( (2*h) / g) # esta es la ecuacion del tiempo\n",
    "    return t # este es el resultado"
   ]
  },
  {
   "cell_type": "code",
   "execution_count": 12,
   "id": "1cfb5e74",
   "metadata": {},
   "outputs": [
    {
     "data": {
      "text/plain": [
       "4.515236409857309"
      ]
     },
     "execution_count": 12,
     "metadata": {},
     "output_type": "execute_result"
    }
   ],
   "source": [
    "CaidaLibre(100)"
   ]
  },
  {
   "cell_type": "code",
   "execution_count": 15,
   "id": "57cf263d",
   "metadata": {},
   "outputs": [
    {
     "data": {
      "text/plain": [
       "1.167e-12"
      ]
     },
     "execution_count": 15,
     "metadata": {},
     "output_type": "execute_result"
    }
   ],
   "source": []
  },
  {
   "cell_type": "code",
   "execution_count": null,
   "id": "3a2e2783",
   "metadata": {},
   "outputs": [],
   "source": []
  },
  {
   "cell_type": "code",
   "execution_count": null,
   "id": "d875019e",
   "metadata": {},
   "outputs": [],
   "source": []
  },
  {
   "cell_type": "code",
   "execution_count": null,
   "id": "87d2ceb3",
   "metadata": {},
   "outputs": [],
   "source": []
  },
  {
   "cell_type": "code",
   "execution_count": null,
   "id": "777f046b",
   "metadata": {},
   "outputs": [],
   "source": []
  },
  {
   "cell_type": "code",
   "execution_count": null,
   "id": "a65d43d2",
   "metadata": {},
   "outputs": [],
   "source": []
  },
  {
   "cell_type": "code",
   "execution_count": null,
   "id": "22f4ea93",
   "metadata": {},
   "outputs": [],
   "source": []
  },
  {
   "cell_type": "code",
   "execution_count": null,
   "id": "eba540ad",
   "metadata": {},
   "outputs": [],
   "source": []
  },
  {
   "cell_type": "code",
   "execution_count": null,
   "id": "d6fff4b9",
   "metadata": {},
   "outputs": [],
   "source": []
  },
  {
   "cell_type": "code",
   "execution_count": null,
   "id": "bf100dcd",
   "metadata": {},
   "outputs": [],
   "source": []
  },
  {
   "cell_type": "code",
   "execution_count": 1,
   "id": "bc3ebea9",
   "metadata": {},
   "outputs": [],
   "source": [
    "from math import sqrt"
   ]
  },
  {
   "cell_type": "markdown",
   "id": "33e630de",
   "metadata": {},
   "source": [
    "$$\n",
    "t = \\sqrt{ 2h \\over g}\n",
    "$$"
   ]
  },
  {
   "cell_type": "code",
   "execution_count": 2,
   "id": "81faab88",
   "metadata": {},
   "outputs": [],
   "source": [
    "g = 9.81\n",
    "def CaidaLibre(h):\n",
    "    t = sqrt(2*h/g)\n",
    "    return t"
   ]
  },
  {
   "cell_type": "code",
   "execution_count": 3,
   "id": "0c697c70",
   "metadata": {},
   "outputs": [
    {
     "name": "stdout",
     "output_type": "stream",
     "text": [
      "4.515236409857309\n"
     ]
    }
   ],
   "source": [
    "print(CaidaLibre(100))"
   ]
  },
  {
   "cell_type": "code",
   "execution_count": null,
   "id": "b055a184",
   "metadata": {},
   "outputs": [],
   "source": []
  }
 ],
 "metadata": {
  "kernelspec": {
   "display_name": "Python 3 (ipykernel)",
   "language": "python",
   "name": "python3"
  },
  "language_info": {
   "codemirror_mode": {
    "name": "ipython",
    "version": 3
   },
   "file_extension": ".py",
   "mimetype": "text/x-python",
   "name": "python",
   "nbconvert_exporter": "python",
   "pygments_lexer": "ipython3",
   "version": "3.12.3"
  }
 },
 "nbformat": 4,
 "nbformat_minor": 5
}
