{
 "cells": [
  {
   "cell_type": "markdown",
   "id": "86979b2b",
   "metadata": {},
   "source": [
    "# Ejercico 1"
   ]
  },
  {
   "cell_type": "markdown",
   "id": "cc3f6b34",
   "metadata": {},
   "source": [
    "## Caída de una pelota desde una torre: \n",
    "\n",
    "Se deja caer una pelota desde una torre de altura $h$. \n",
    "Tiene velocidad inicial cero y acelera hacia abajo por la acción de la gravedad.\n",
    "\n",
    "Escribe un programa que le pida al usuario que ingrese la altura en metros de la torre y luego calcule e imprima el tiempo en segundos hasta que la pelota toque el suelo\n",
    "(recuerda que el aire no existe).\n",
    "\n",
    "Despues, usa tu programa para calcular el tiempo de una pelota lanzada desde una torre de $100 \\, m$ de altura."
   ]
  },
  {
   "cell_type": "markdown",
   "id": "1accb674",
   "metadata": {},
   "source": [
    "$$\n",
    "t = \\sqrt{2h \\over g}\n",
    "$$"
   ]
  },
  {
   "cell_type": "code",
   "execution_count": 1,
   "id": "e0e9d636",
   "metadata": {},
   "outputs": [],
   "source": [
    "\n",
    "import math as mt"
   ]
  },
  {
   "cell_type": "code",
   "execution_count": null,
   "id": "e7bcfb22",
   "metadata": {},
   "outputs": [],
   "source": [
    "# Constantes\n",
    "g = 9.81 #m/s2"
   ]
  },
  {
   "cell_type": "code",
   "execution_count": 3,
   "id": "372d6ad2",
   "metadata": {},
   "outputs": [],
   "source": [
    "#fundiones\n",
    "def Tiempo(h):\n",
    "    t = mt.sqrt(2*h/g)\n",
    "    return t\n",
    "\n"
   ]
  },
  {
   "cell_type": "code",
   "execution_count": 4,
   "id": "850b88ea",
   "metadata": {},
   "outputs": [
    {
     "ename": "NameError",
     "evalue": "name 'g' is not defined",
     "output_type": "error",
     "traceback": [
      "\u001b[0;31m---------------------------------------------------------------------------\u001b[0m",
      "\u001b[0;31mNameError\u001b[0m                                 Traceback (most recent call last)",
      "Cell \u001b[0;32mIn[4], line 2\u001b[0m\n\u001b[1;32m      1\u001b[0m \u001b[38;5;66;03m#Resultado\u001b[39;00m\n\u001b[0;32m----> 2\u001b[0m \u001b[38;5;28mprint\u001b[39m(\u001b[43mTiempo\u001b[49m\u001b[43m(\u001b[49m\u001b[38;5;241;43m100\u001b[39;49m\u001b[43m)\u001b[49m, \u001b[38;5;124m\"\u001b[39m\u001b[38;5;124m s\u001b[39m\u001b[38;5;124m\"\u001b[39m) \u001b[38;5;66;03m# s\u001b[39;00m\n",
      "Cell \u001b[0;32mIn[3], line 3\u001b[0m, in \u001b[0;36mTiempo\u001b[0;34m(h)\u001b[0m\n\u001b[1;32m      2\u001b[0m \u001b[38;5;28;01mdef\u001b[39;00m \u001b[38;5;21mTiempo\u001b[39m(h):\n\u001b[0;32m----> 3\u001b[0m     t \u001b[38;5;241m=\u001b[39m mt\u001b[38;5;241m.\u001b[39msqrt(\u001b[38;5;241m2\u001b[39m\u001b[38;5;241m*\u001b[39mh\u001b[38;5;241m/\u001b[39m\u001b[43mg\u001b[49m)\n\u001b[1;32m      4\u001b[0m     \u001b[38;5;28;01mreturn\u001b[39;00m t\n",
      "\u001b[0;31mNameError\u001b[0m: name 'g' is not defined"
     ]
    }
   ],
   "source": [
    "#Resultado\n",
    "print(Tiempo(100), \" s\") # s"
   ]
  },
  {
   "cell_type": "code",
   "execution_count": null,
   "id": "1cfb5e74",
   "metadata": {},
   "outputs": [],
   "source": []
  },
  {
   "cell_type": "code",
   "execution_count": null,
   "id": "57cf263d",
   "metadata": {},
   "outputs": [],
   "source": []
  },
  {
   "cell_type": "code",
   "execution_count": null,
   "id": "3a2e2783",
   "metadata": {},
   "outputs": [],
   "source": []
  },
  {
   "cell_type": "code",
   "execution_count": null,
   "id": "d875019e",
   "metadata": {},
   "outputs": [],
   "source": []
  },
  {
   "cell_type": "code",
   "execution_count": null,
   "id": "87d2ceb3",
   "metadata": {},
   "outputs": [],
   "source": []
  },
  {
   "cell_type": "code",
   "execution_count": null,
   "id": "777f046b",
   "metadata": {},
   "outputs": [],
   "source": []
  },
  {
   "cell_type": "code",
   "execution_count": null,
   "id": "a65d43d2",
   "metadata": {},
   "outputs": [],
   "source": []
  },
  {
   "cell_type": "code",
   "execution_count": null,
   "id": "22f4ea93",
   "metadata": {},
   "outputs": [],
   "source": []
  },
  {
   "cell_type": "code",
   "execution_count": null,
   "id": "eba540ad",
   "metadata": {},
   "outputs": [],
   "source": []
  },
  {
   "cell_type": "code",
   "execution_count": null,
   "id": "d6fff4b9",
   "metadata": {},
   "outputs": [],
   "source": []
  },
  {
   "cell_type": "code",
   "execution_count": null,
   "id": "bf100dcd",
   "metadata": {},
   "outputs": [],
   "source": []
  },
  {
   "cell_type": "code",
   "execution_count": null,
   "id": "bc3ebea9",
   "metadata": {},
   "outputs": [],
   "source": [
    "from math import sqrt"
   ]
  },
  {
   "cell_type": "markdown",
   "id": "33e630de",
   "metadata": {},
   "source": [
    "$$\n",
    "t_f = \\sqrt{ 2h \\over g}\n",
    "$$"
   ]
  },
  {
   "cell_type": "code",
   "execution_count": null,
   "id": "81faab88",
   "metadata": {},
   "outputs": [],
   "source": [
    "g = 9.81\n",
    "def CaidaLibre(h):\n",
    "    t = sqrt(2*h/g)\n",
    "    return t"
   ]
  },
  {
   "cell_type": "code",
   "execution_count": null,
   "id": "0c697c70",
   "metadata": {},
   "outputs": [],
   "source": [
    "print(CaidaLibre(100))"
   ]
  },
  {
   "cell_type": "code",
   "execution_count": null,
   "id": "b055a184",
   "metadata": {},
   "outputs": [],
   "source": []
  }
 ],
 "metadata": {
  "kernelspec": {
   "display_name": "Python 3 (ipykernel)",
   "language": "python",
   "name": "python3"
  },
  "language_info": {
   "codemirror_mode": {
    "name": "ipython",
    "version": 3
   },
   "file_extension": ".py",
   "mimetype": "text/x-python",
   "name": "python",
   "nbconvert_exporter": "python",
   "pygments_lexer": "ipython3",
   "version": "3.12.3"
  }
 },
 "nbformat": 4,
 "nbformat_minor": 5
}
